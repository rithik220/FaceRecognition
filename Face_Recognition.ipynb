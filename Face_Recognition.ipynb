{
  "nbformat": 4,
  "nbformat_minor": 0,
  "metadata": {
    "colab": {
      "name": "Face Recognition.ipynb",
      "provenance": [],
      "private_outputs": true,
      "collapsed_sections": []
    },
    "kernelspec": {
      "name": "python3",
      "display_name": "Python 3"
    },
    "accelerator": "GPU"
  },
  "cells": [
    {
      "cell_type": "code",
      "metadata": {
        "id": "jzrhuKBxgVF2",
        "colab_type": "code",
        "colab": {}
      },
      "source": [
        "!pip install face_recognition"
      ],
      "execution_count": null,
      "outputs": []
    },
    {
      "cell_type": "code",
      "metadata": {
        "id": "shMsywOr8fsP",
        "colab_type": "code",
        "colab": {}
      },
      "source": [
        "!mkdir known\n",
        "!wget https://www.biography.com/.image/t_share/MTY2MzU3Nzk2OTM2MjMwNTkx/elon_musk_royal_society.jpg -O known/elon.jpg\n",
        "!wget https://images.cinemaexpress.com/uploads/user/imagelibrary/2020/4/7/original/reactions.jpg -O known/hrithik.jpg\n",
        "!wget https://szcdn.ragalahari.com/july2019/hd/rashmika-mandanna-dearcomrade-interview/rashmika-mandanna-dearcomrade-interview2t.jpg -O known/rashmika.jpg"
      ],
      "execution_count": null,
      "outputs": []
    },
    {
      "cell_type": "code",
      "metadata": {
        "id": "xDma9x0T9TPp",
        "colab_type": "code",
        "colab": {}
      },
      "source": [
        "!mkdir unknown\n",
        "!wget https://cdni.rt.com/files/2017.03/article/58c280fec36188db2e8b4586.jpg -O unknown/1.jpg\n",
        "!wget https://img.etimg.com/thumb/msid-72381021,width-1200,height-900/magazines/panache/uk-poll-names-hrithik-roshan-as-sexiest-asian-male-of-the-decade.jpg -O unknown/2.jpg\n",
        "!wget https://i.pinimg.com/736x/0c/09/7c/0c097c1284f6cf7f448eff891e216415.jpg -O unknown/3.jpg\n",
        "!wget https://images.firstpost.com/wp-content/uploads/2018/05/Allu-Arjun-380.jpg -O unknown/4.jpg"
      ],
      "execution_count": null,
      "outputs": []
    },
    {
      "cell_type": "code",
      "metadata": {
        "id": "J3CoRttYGOeW",
        "colab_type": "code",
        "colab": {}
      },
      "source": [
        "import face_recognition\n",
        "import cv2\n",
        "import os\n",
        "from google.colab.patches import  cv2_imshow\n",
        "\n",
        "def read_img(path):\n",
        "  img = cv2.imread(path)\n",
        "  (h, w) = img.shape[:2]\n",
        "  width = 500\n",
        "  ratio = width / float(w)\n",
        "  height = int(h * ratio)\n",
        "  return cv2.resize(img, (width, height))\n",
        "\n",
        "\n",
        "known_encodings = []\n",
        "known_names = []\n",
        "known_dir = 'known'\n",
        "\n",
        "for file in os.listdir(known_dir):\n",
        "  img = read_img(known_dir + '/' + file)\n",
        "  img_enc = face_recognition.face_encodings(img)[0]\n",
        "  known_encodings.append(img_enc)\n",
        "  known_names.append(file.split('.')[0])\n",
        "\n",
        "unknown_dir = 'unknown'\n",
        "for file in os.listdir(unknown_dir):\n",
        "  print(\"Processing\", file)\n",
        "  img = read_img(unknown_dir + '/' + file)\n",
        "  img_enc = face_recognition.face_encodings(img)[0]\n",
        "\n",
        "\n",
        "  results = face_recognition.compare_faces(known_encodings, img_enc)\n",
        "  #print(face_recognition.face_distance(known_encodings, img_enc))\n",
        "  for i in range(len(results)):\n",
        "    if results[i]:\n",
        "        name = print(known_names[i])\n",
        "        (top, right, bottom, left) = face_recognition.face_locations(img)[0]\n",
        "        cv2.rectangle(img, (left, top), (right, bottom), (0, 0, 255), 2)\n",
        "        # cv2.putText(img, name, (left+2, bottom+20), cv2.FONT_HERSHEY_PLAIN, 0.5, (0,0,0), 1)\n",
        "        cv2.putText(img, name, (left+2 , bottom+20), cv2.FONT_ITALIC, 1, (255, 255, 255), 1)\n",
        "        cv2_imshow(img)\n",
        "\n",
        "  # print(results)   \n",
        "\n"
      ],
      "execution_count": null,
      "outputs": []
    }
  ]
}